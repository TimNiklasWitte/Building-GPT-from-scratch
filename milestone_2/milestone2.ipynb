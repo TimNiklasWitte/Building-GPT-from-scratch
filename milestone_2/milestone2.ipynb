{
 "cells": [
  {
   "cell_type": "markdown",
   "id": "454719a8",
   "metadata": {},
   "source": [
    "# Milestone 2:"
   ]
  },
  {
   "cell_type": "code",
   "execution_count": null,
   "id": "619e9fe7",
   "metadata": {},
   "outputs": [],
   "source": [
    "class N_Gram_Basic_AT:\n",
    "    def __init__(self, n , corpus):\n",
    "        \"\"\"\n",
    "        Initialize the N-gram model with n and corpus.\n",
    "        :param n: The size of the n-grams.\n",
    "        :param corpus: The text corpus to train on.\n",
    "        \"\"\"\n",
    "        self.n = n\n",
    "        self.corpus = corpus\n",
    "        self.ngrams = defaultdict(int)\n",
    "        self.train()\n"
   ]
  }
 ],
 "metadata": {
  "language_info": {
   "name": "python"
  }
 },
 "nbformat": 4,
 "nbformat_minor": 5
}
